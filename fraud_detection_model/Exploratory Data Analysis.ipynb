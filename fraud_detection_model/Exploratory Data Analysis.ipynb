{
 "cells": [
  {
   "cell_type": "markdown",
   "id": "2c27e6fc",
   "metadata": {},
   "source": [
    "## Dependencies"
   ]
  },
  {
   "cell_type": "code",
   "execution_count": 1,
   "id": "1f294bcc",
   "metadata": {},
   "outputs": [],
   "source": [
    "import pandas as pd\n",
    "import numpy as np\n",
    "import seaborn as sns\n",
    "import matplotlib.pyplot as plt\n",
    "from matplotlib import pyplot"
   ]
  },
  {
   "cell_type": "markdown",
   "id": "3381ec3d",
   "metadata": {},
   "source": [
    "## Global Settings"
   ]
  },
  {
   "cell_type": "code",
   "execution_count": 2,
   "id": "6b11c0e6",
   "metadata": {},
   "outputs": [],
   "source": [
    "sns.set_theme(style=\"darkgrid\")\n",
    "A4_DIMS = (11.7, 8.27)"
   ]
  },
  {
   "cell_type": "markdown",
   "id": "50999187",
   "metadata": {},
   "source": [
    "## Utility functions"
   ]
  },
  {
   "cell_type": "code",
   "execution_count": 3,
   "id": "46d12d6f",
   "metadata": {},
   "outputs": [],
   "source": [
    "def countplot(data, column, hue=None, log=False):\n",
    "    top_n = data[column].value_counts().iloc[:20].index\n",
    "    top = data[data[column].isin(top_n)]\n",
    "\n",
    "    fig, ax = pyplot.subplots(figsize=A4_DIMS)\n",
    "    ax.tick_params(labelrotation=90)\n",
    "    if log: ax.set(yscale=\"log\")\n",
    "    sns.countplot(ax=ax, x=column, data=top, order=top[column].value_counts().index, hue=hue)"
   ]
  },
  {
   "cell_type": "markdown",
   "id": "30fce48e",
   "metadata": {},
   "source": [
    "## Load dataset"
   ]
  },
  {
   "cell_type": "code",
   "execution_count": 4,
   "id": "6b1558f1",
   "metadata": {},
   "outputs": [
    {
     "data": {
      "text/html": [
       "<div>\n",
       "<style scoped>\n",
       "    .dataframe tbody tr th:only-of-type {\n",
       "        vertical-align: middle;\n",
       "    }\n",
       "\n",
       "    .dataframe tbody tr th {\n",
       "        vertical-align: top;\n",
       "    }\n",
       "\n",
       "    .dataframe thead th {\n",
       "        text-align: right;\n",
       "    }\n",
       "</style>\n",
       "<table border=\"1\" class=\"dataframe\">\n",
       "  <thead>\n",
       "    <tr style=\"text-align: right;\">\n",
       "      <th></th>\n",
       "      <th>step</th>\n",
       "      <th>type</th>\n",
       "      <th>amount</th>\n",
       "      <th>nameOrig</th>\n",
       "      <th>oldbalanceOrig</th>\n",
       "      <th>newbalanceOrig</th>\n",
       "      <th>nameDest</th>\n",
       "      <th>oldbalanceDest</th>\n",
       "      <th>newbalanceDest</th>\n",
       "      <th>isFraud</th>\n",
       "    </tr>\n",
       "  </thead>\n",
       "  <tbody>\n",
       "    <tr>\n",
       "      <th>0</th>\n",
       "      <td>1</td>\n",
       "      <td>PAYMENT</td>\n",
       "      <td>9839.64</td>\n",
       "      <td>C1231006815</td>\n",
       "      <td>170136.0</td>\n",
       "      <td>160296.36</td>\n",
       "      <td>M1979787155</td>\n",
       "      <td>0.0</td>\n",
       "      <td>0.0</td>\n",
       "      <td>0</td>\n",
       "    </tr>\n",
       "    <tr>\n",
       "      <th>1</th>\n",
       "      <td>1</td>\n",
       "      <td>PAYMENT</td>\n",
       "      <td>1864.28</td>\n",
       "      <td>C1666544295</td>\n",
       "      <td>21249.0</td>\n",
       "      <td>19384.72</td>\n",
       "      <td>M2044282225</td>\n",
       "      <td>0.0</td>\n",
       "      <td>0.0</td>\n",
       "      <td>0</td>\n",
       "    </tr>\n",
       "    <tr>\n",
       "      <th>2</th>\n",
       "      <td>1</td>\n",
       "      <td>TRANSFER</td>\n",
       "      <td>181.00</td>\n",
       "      <td>C1305486145</td>\n",
       "      <td>181.0</td>\n",
       "      <td>0.00</td>\n",
       "      <td>C553264065</td>\n",
       "      <td>0.0</td>\n",
       "      <td>0.0</td>\n",
       "      <td>1</td>\n",
       "    </tr>\n",
       "    <tr>\n",
       "      <th>3</th>\n",
       "      <td>1</td>\n",
       "      <td>CASH_OUT</td>\n",
       "      <td>181.00</td>\n",
       "      <td>C840083671</td>\n",
       "      <td>181.0</td>\n",
       "      <td>0.00</td>\n",
       "      <td>C38997010</td>\n",
       "      <td>21182.0</td>\n",
       "      <td>0.0</td>\n",
       "      <td>1</td>\n",
       "    </tr>\n",
       "    <tr>\n",
       "      <th>4</th>\n",
       "      <td>1</td>\n",
       "      <td>PAYMENT</td>\n",
       "      <td>11668.14</td>\n",
       "      <td>C2048537720</td>\n",
       "      <td>41554.0</td>\n",
       "      <td>29885.86</td>\n",
       "      <td>M1230701703</td>\n",
       "      <td>0.0</td>\n",
       "      <td>0.0</td>\n",
       "      <td>0</td>\n",
       "    </tr>\n",
       "  </tbody>\n",
       "</table>\n",
       "</div>"
      ],
      "text/plain": [
       "   step      type    amount     nameOrig  oldbalanceOrig  newbalanceOrig  \\\n",
       "0     1   PAYMENT   9839.64  C1231006815        170136.0       160296.36   \n",
       "1     1   PAYMENT   1864.28  C1666544295         21249.0        19384.72   \n",
       "2     1  TRANSFER    181.00  C1305486145           181.0            0.00   \n",
       "3     1  CASH_OUT    181.00   C840083671           181.0            0.00   \n",
       "4     1   PAYMENT  11668.14  C2048537720         41554.0        29885.86   \n",
       "\n",
       "      nameDest  oldbalanceDest  newbalanceDest  isFraud  \n",
       "0  M1979787155             0.0             0.0        0  \n",
       "1  M2044282225             0.0             0.0        0  \n",
       "2   C553264065             0.0             0.0        1  \n",
       "3    C38997010         21182.0             0.0        1  \n",
       "4  M1230701703             0.0             0.0        0  "
      ]
     },
     "execution_count": 4,
     "metadata": {},
     "output_type": "execute_result"
    }
   ],
   "source": [
    "transactions = pd.read_csv(\"../data/transactions_train.csv\")\n",
    "transactions.head()"
   ]
  },
  {
   "cell_type": "markdown",
   "id": "ce8863fb",
   "metadata": {},
   "source": [
    "## EDA"
   ]
  },
  {
   "cell_type": "markdown",
   "id": "e12fc31a",
   "metadata": {},
   "source": [
    "### Transaction type counts"
   ]
  },
  {
   "cell_type": "code",
   "execution_count": 5,
   "id": "d706a9bb",
   "metadata": {},
   "outputs": [
    {
     "data": {
      "text/plain": [
       "CASH_OUT    2233369\n",
       "PAYMENT     2147832\n",
       "CASH_IN     1396865\n",
       "TRANSFER     531817\n",
       "DEBIT         41310\n",
       "Name: type, dtype: int64"
      ]
     },
     "execution_count": 5,
     "metadata": {},
     "output_type": "execute_result"
    },
    {
     "data": {
      "image/png": "[encoded data removed]",
      "text/plain": [
       "<Figure size 842.4x595.44 with 1 Axes>"
      ]
     },
     "metadata": {},
     "output_type": "display_data"
    }
   ],
   "source": [
    "countplot(transactions, \"type\", log=True)\n",
    "transactions[\"type\"].value_counts()"
   ]
  },
  {
   "cell_type": "markdown",
   "id": "c211f1d1",
   "metadata": {},
   "source": [
    "### Transaction type counts (by Label)"
   ]
  },
  {
   "cell_type": "code",
   "execution_count": 6,
   "id": "d1cbcb95",
   "metadata": {},
   "outputs": [
    {
     "data": {
      "text/plain": [
       "CASH_OUT    3868\n",
       "TRANSFER    3849\n",
       "Name: type, dtype: int64"
      ]
     },
     "execution_count": 6,
     "metadata": {},
     "output_type": "execute_result"
    },
    {
     "data": {
      "image/png": "[encoded data removed]",
      "text/plain": [
       "<Figure size 842.4x595.44 with 1 Axes>"
      ]
     },
     "metadata": {},
     "output_type": "display_data"
    }
   ],
   "source": [
    "countplot(transactions, \"type\", hue=\"isFraud\", log=True)\n",
    "transactions[transactions[\"isFraud\"] == 1][\"type\"].value_counts()"
   ]
  },
  {
   "cell_type": "markdown",
   "id": "12b63a23",
   "metadata": {},
   "source": [
    "### Transaction type counts (Non-fraud only)"
   ]
  },
  {
   "cell_type": "code",
   "execution_count": 7,
   "id": "00ac4860",
   "metadata": {},
   "outputs": [
    {
     "data": {
      "text/plain": [
       "CASH_OUT    2229501\n",
       "PAYMENT     2147832\n",
       "CASH_IN     1396865\n",
       "TRANSFER     527968\n",
       "DEBIT         41310\n",
       "Name: type, dtype: int64"
      ]
     },
     "execution_count": 7,
     "metadata": {},
     "output_type": "execute_result"
    },
    {
     "data": {
      "image/png": "[encoded data removed]",
      "text/plain": [
       "<Figure size 842.4x595.44 with 1 Axes>"
      ]
     },
     "metadata": {},
     "output_type": "display_data"
    }
   ],
   "source": [
    "countplot(transactions[transactions[\"isFraud\"] == 0], \"type\", log=True)\n",
    "transactions[transactions[\"isFraud\"] == 0][\"type\"].value_counts()"
   ]
  },
  {
   "cell_type": "markdown",
   "id": "f5b2bf4a",
   "metadata": {},
   "source": [
    "### Transaction type counts (Fraud only)"
   ]
  },
  {
   "cell_type": "code",
   "execution_count": 8,
   "id": "54f04c7f",
   "metadata": {},
   "outputs": [
    {
     "data": {
      "text/plain": [
       "CASH_OUT    3868\n",
       "TRANSFER    3849\n",
       "Name: type, dtype: int64"
      ]
     },
     "execution_count": 8,
     "metadata": {},
     "output_type": "execute_result"
    },
    {
     "data": {
      "image/png": "[encoded data removed]",
      "text/plain": [
       "<Figure size 842.4x595.44 with 1 Axes>"
      ]
     },
     "metadata": {},
     "output_type": "display_data"
    }
   ],
   "source": [
    "countplot(transactions[transactions[\"isFraud\"] == 1], \"type\")\n",
    "transactions[transactions[\"isFraud\"] == 1][\"type\"].value_counts()"
   ]
  },
  {
   "cell_type": "markdown",
   "id": "db07ba4d",
   "metadata": {},
   "source": [
    "### Transaction label counts"
   ]
  },
  {
   "cell_type": "code",
   "execution_count": 9,
   "id": "389b43a1",
   "metadata": {},
   "outputs": [
    {
     "data": {
      "text/plain": [
       "0    6343476\n",
       "1       7717\n",
       "Name: isFraud, dtype: int64"
      ]
     },
     "execution_count": 9,
     "metadata": {},
     "output_type": "execute_result"
    },
    {
     "data": {
      "image/png": "[encoded data removed]",
      "text/plain": [
       "<Figure size 842.4x595.44 with 1 Axes>"
      ]
     },
     "metadata": {},
     "output_type": "display_data"
    }
   ],
   "source": [
    "countplot(transactions, \"isFraud\", log=True)\n",
    "transactions[\"isFraud\"].value_counts()"
   ]
  },
  {
   "cell_type": "markdown",
   "id": "b3321f85",
   "metadata": {},
   "source": [
    "### Median amounts per transaction type"
   ]
  },
  {
   "cell_type": "code",
   "execution_count": null,
   "id": "3ce1b389",
   "metadata": {},
   "outputs": [],
   "source": [
    "top_n = transactions.groupby(\"type\").aggregate(func=np.median).sort_values(by=\"amount\", ascending=False)\n",
    "amount_type_df = transactions[[\"type\", \"amount\"]]\n",
    "\n",
    "fig, ax = pyplot.subplots(figsize=A4_DIMS)\n",
    "ax.tick_params(labelrotation=90)\n",
    "ax.set(yscale=\"log\")\n",
    "ax = sns.barplot(x=\"type\", y=\"amount\", data=amount_type_df, estimator=np.median, order=top_n.index)"
   ]
  },
  {
   "cell_type": "markdown",
   "id": "e12d0d09",
   "metadata": {},
   "source": [
    "### Median amounts per transaction types (Non-fraud only)"
   ]
  },
  {
   "cell_type": "code",
   "execution_count": null,
   "id": "0777c4bd",
   "metadata": {},
   "outputs": [],
   "source": [
    "top_n = transactions.groupby(\"type\").aggregate(func=np.median).sort_values(by=\"amount\", ascending=False)\n",
    "amount_type_df = transactions[transactions[\"isFraud\"] == 0][[\"type\", \"amount\"]]\n",
    "\n",
    "fig, ax = pyplot.subplots(figsize=A4_DIMS)\n",
    "ax.tick_params(labelrotation=90)\n",
    "ax.set(yscale=\"log\")\n",
    "ax = sns.barplot(x=\"type\", y=\"amount\", data=amount_type_df, estimator=np.median, order=top_n.index)"
   ]
  },
  {
   "cell_type": "markdown",
   "id": "dbefbfda",
   "metadata": {},
   "source": [
    "### Median amounts per transaction types (Fraud only)"
   ]
  },
  {
   "cell_type": "code",
   "execution_count": null,
   "id": "68a098f5",
   "metadata": {},
   "outputs": [],
   "source": [
    "top_n = transactions.groupby(\"type\").aggregate(func=np.median).sort_values(by=\"amount\", ascending=False)\n",
    "amount_type_df = transactions[transactions[\"isFraud\"] == 1][[\"type\", \"amount\"]]\n",
    "\n",
    "fig, ax = pyplot.subplots(figsize=A4_DIMS)\n",
    "ax.tick_params(labelrotation=90)\n",
    "ax.set(yscale=\"log\")\n",
    "ax = sns.barplot(x=\"type\", y=\"amount\", data=amount_type_df, estimator=np.median, order=top_n.index)"
   ]
  },
  {
   "cell_type": "markdown",
   "id": "3f22cbc7",
   "metadata": {},
   "source": [
    "### Mean amounts per transaction types (Fraud only)"
   ]
  },
  {
   "cell_type": "code",
   "execution_count": null,
   "id": "6c5c1abe",
   "metadata": {},
   "outputs": [],
   "source": [
    "top_n = transactions.groupby(\"type\").aggregate(func=np.mean).sort_values(by=\"amount\", ascending=False)\n",
    "amount_type_df = transactions[transactions[\"isFraud\"] == 1][[\"type\", \"amount\"]]\n",
    "\n",
    "fig, ax = pyplot.subplots(figsize=A4_DIMS)\n",
    "ax.tick_params(labelrotation=90)\n",
    "ax.set(yscale=\"log\")\n",
    "ax = sns.barplot(x=\"type\", y=\"amount\", data=amount_type_df, estimator=np.mean, order=top_n.index)"
   ]
  },
  {
   "cell_type": "code",
   "execution_count": null,
   "id": "be02ba5a",
   "metadata": {},
   "outputs": [],
   "source": [
    "countplot(transactions, \"step\")"
   ]
  },
  {
   "cell_type": "code",
   "execution_count": null,
   "id": "e787c9b1",
   "metadata": {},
   "outputs": [],
   "source": [
    "countplot(transactions[transactions[\"isFraud\"] == 0], \"step\")"
   ]
  },
  {
   "cell_type": "code",
   "execution_count": null,
   "id": "5148b3fa",
   "metadata": {},
   "outputs": [],
   "source": [
    "countplot(transactions[transactions[\"isFraud\"] == 1], \"step\")"
   ]
  },
  {
   "cell_type": "code",
   "execution_count": null,
   "id": "fd0108c1",
   "metadata": {},
   "outputs": [],
   "source": [
    "countplot(transactions[transactions[\"isFraud\"] == 0], \"nameOrig\")"
   ]
  },
  {
   "cell_type": "code",
   "execution_count": null,
   "id": "417a08ae",
   "metadata": {},
   "outputs": [],
   "source": [
    "countplot(transactions[transactions[\"isFraud\"] == 1], \"nameOrig\")\n",
    "# Accounts with fraud transactions only transacted once"
   ]
  },
  {
   "cell_type": "code",
   "execution_count": null,
   "id": "f99c1a18",
   "metadata": {},
   "outputs": [],
   "source": [
    "countplot(transactions[transactions[\"isFraud\"] == 0], \"nameDest\")"
   ]
  },
  {
   "cell_type": "code",
   "execution_count": null,
   "id": "6ba0e4af",
   "metadata": {},
   "outputs": [],
   "source": [
    "countplot(transactions[transactions[\"isFraud\"] == 1], \"nameDest\")"
   ]
  }
 ],
 "metadata": {
  "kernelspec": {
   "display_name": "Python 3 (ipykernel)",
   "language": "python",
   "name": "python3"
  },
  "language_info": {
   "codemirror_mode": {
    "name": "ipython",
    "version": 3
   },
   "file_extension": ".py",
   "mimetype": "text/x-python",
   "name": "python",
   "nbconvert_exporter": "python",
   "pygments_lexer": "ipython3",
   "version": "3.9.7"
  }
 },
 "nbformat": 4,
 "nbformat_minor": 5
}
