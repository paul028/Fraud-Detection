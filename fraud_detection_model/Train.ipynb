{
 "cells": [
  {
   "cell_type": "code",
   "execution_count": 1,
   "metadata": {},
   "outputs": [],
   "source": [
    "import pandas as pd\n",
    "import numpy as np\n",
    "\n",
    "from sklearn.neural_network import MLPClassifier\n",
    "from sklearn.preprocessing import LabelEncoder, StandardScaler\n",
    "from sklearn.model_selection import train_test_split\n",
    "from sklearn.metrics import confusion_matrix, accuracy_score, f1_score,matthews_corrcoef\n",
    "\n",
    "from sklearn.model_selection import KFold\n",
    "from imblearn.over_sampling import SMOTE\n",
    "from imblearn.under_sampling import RandomUnderSampler\n",
    "from collections import Counter\n",
    "\n",
    "import seaborn as sns\n",
    "import matplotlib.pyplot as plt\n",
    "\n",
    "import pickle\n",
    "\n",
    "import warnings\n",
    "warnings.filterwarnings('ignore')"
   ]
  },
  {
   "cell_type": "code",
   "execution_count": 2,
   "metadata": {},
   "outputs": [
    {
     "data": {
      "text/html": [
       "<div>\n",
       "<style scoped>\n",
       "    .dataframe tbody tr th:only-of-type {\n",
       "        vertical-align: middle;\n",
       "    }\n",
       "\n",
       "    .dataframe tbody tr th {\n",
       "        vertical-align: top;\n",
       "    }\n",
       "\n",
       "    .dataframe thead th {\n",
       "        text-align: right;\n",
       "    }\n",
       "</style>\n",
       "<table border=\"1\" class=\"dataframe\">\n",
       "  <thead>\n",
       "    <tr style=\"text-align: right;\">\n",
       "      <th></th>\n",
       "      <th>step</th>\n",
       "      <th>type</th>\n",
       "      <th>amount</th>\n",
       "      <th>nameOrig</th>\n",
       "      <th>oldbalanceOrig</th>\n",
       "      <th>newbalanceOrig</th>\n",
       "      <th>nameDest</th>\n",
       "      <th>oldbalanceDest</th>\n",
       "      <th>newbalanceDest</th>\n",
       "      <th>isFraud</th>\n",
       "    </tr>\n",
       "  </thead>\n",
       "  <tbody>\n",
       "    <tr>\n",
       "      <th>0</th>\n",
       "      <td>1</td>\n",
       "      <td>PAYMENT</td>\n",
       "      <td>9839.64</td>\n",
       "      <td>C1231006815</td>\n",
       "      <td>170136.0</td>\n",
       "      <td>160296.36</td>\n",
       "      <td>M1979787155</td>\n",
       "      <td>0.0</td>\n",
       "      <td>0.0</td>\n",
       "      <td>0</td>\n",
       "    </tr>\n",
       "    <tr>\n",
       "      <th>1</th>\n",
       "      <td>1</td>\n",
       "      <td>PAYMENT</td>\n",
       "      <td>1864.28</td>\n",
       "      <td>C1666544295</td>\n",
       "      <td>21249.0</td>\n",
       "      <td>19384.72</td>\n",
       "      <td>M2044282225</td>\n",
       "      <td>0.0</td>\n",
       "      <td>0.0</td>\n",
       "      <td>0</td>\n",
       "    </tr>\n",
       "    <tr>\n",
       "      <th>2</th>\n",
       "      <td>1</td>\n",
       "      <td>TRANSFER</td>\n",
       "      <td>181.00</td>\n",
       "      <td>C1305486145</td>\n",
       "      <td>181.0</td>\n",
       "      <td>0.00</td>\n",
       "      <td>C553264065</td>\n",
       "      <td>0.0</td>\n",
       "      <td>0.0</td>\n",
       "      <td>1</td>\n",
       "    </tr>\n",
       "    <tr>\n",
       "      <th>3</th>\n",
       "      <td>1</td>\n",
       "      <td>CASH_OUT</td>\n",
       "      <td>181.00</td>\n",
       "      <td>C840083671</td>\n",
       "      <td>181.0</td>\n",
       "      <td>0.00</td>\n",
       "      <td>C38997010</td>\n",
       "      <td>21182.0</td>\n",
       "      <td>0.0</td>\n",
       "      <td>1</td>\n",
       "    </tr>\n",
       "    <tr>\n",
       "      <th>4</th>\n",
       "      <td>1</td>\n",
       "      <td>PAYMENT</td>\n",
       "      <td>11668.14</td>\n",
       "      <td>C2048537720</td>\n",
       "      <td>41554.0</td>\n",
       "      <td>29885.86</td>\n",
       "      <td>M1230701703</td>\n",
       "      <td>0.0</td>\n",
       "      <td>0.0</td>\n",
       "      <td>0</td>\n",
       "    </tr>\n",
       "  </tbody>\n",
       "</table>\n",
       "</div>"
      ],
      "text/plain": [
       "   step      type    amount     nameOrig  oldbalanceOrig  newbalanceOrig  \\\n",
       "0     1   PAYMENT   9839.64  C1231006815        170136.0       160296.36   \n",
       "1     1   PAYMENT   1864.28  C1666544295         21249.0        19384.72   \n",
       "2     1  TRANSFER    181.00  C1305486145           181.0            0.00   \n",
       "3     1  CASH_OUT    181.00   C840083671           181.0            0.00   \n",
       "4     1   PAYMENT  11668.14  C2048537720         41554.0        29885.86   \n",
       "\n",
       "      nameDest  oldbalanceDest  newbalanceDest  isFraud  \n",
       "0  M1979787155             0.0             0.0        0  \n",
       "1  M2044282225             0.0             0.0        0  \n",
       "2   C553264065             0.0             0.0        1  \n",
       "3    C38997010         21182.0             0.0        1  \n",
       "4  M1230701703             0.0             0.0        0  "
      ]
     },
     "execution_count": 2,
     "metadata": {},
     "output_type": "execute_result"
    }
   ],
   "source": [
    "transactions = pd.read_csv(\"../data/transactions_train.csv\")\n",
    "transactions.head()"
   ]
  },
  {
   "cell_type": "markdown",
   "metadata": {},
   "source": [
    "#### Correlation Matrix on Balanced Dataset"
   ]
  },
  {
   "cell_type": "code",
   "execution_count": 3,
   "metadata": {},
   "outputs": [
    {
     "name": "stdout",
     "output_type": "stream",
     "text": [
      "Distribution of the classes in the Balanced dataset\n",
      "1    0.5\n",
      "0    0.5\n",
      "Name: isFraud, dtype: float64\n"
     ]
    },
    {
     "data": {
      "image/png": "[encoded data removed]",
      "text/plain": [
       "<Figure size 1080x1080 with 2 Axes>"
      ]
     },
     "metadata": {
      "needs_background": "light"
     },
     "output_type": "display_data"
    }
   ],
   "source": [
    "df = transactions.sample(frac=1)\n",
    "fraud_df = df.loc[df['isFraud'] == 1]\n",
    "non_fraud_df = df.loc[df['isFraud'] == 0][:len(fraud_df)]\n",
    "normal_distributed_df = pd.concat([fraud_df, non_fraud_df])\n",
    "new_df = normal_distributed_df.sample(frac=1)\n",
    "\n",
    "print(\"Distribution of the classes in the Balanced dataset\")\n",
    "print(new_df[\"isFraud\"].value_counts()/len(new_df))\n",
    "plt.figure(figsize=(15,15))\n",
    "g = sns.heatmap(new_df.corr(), annot=True)"
   ]
  },
  {
   "cell_type": "markdown",
   "metadata": {},
   "source": [
    "### Train-test split"
   ]
  },
  {
   "cell_type": "code",
   "execution_count": 4,
   "metadata": {},
   "outputs": [
    {
     "name": "stdout",
     "output_type": "stream",
     "text": [
      "y_train Fraud: 99.88%\n",
      "y_train Non-fraud: 0.12%\n",
      "y_test Fraud: 99.88%\n",
      "y_test Non-fraud: 0.12%\n"
     ]
    }
   ],
   "source": [
    "transactions = pd.read_csv(\"../data/transactions_train.csv\")\n",
    "X = transactions[[\"type\", \"amount\", \"oldbalanceOrig\", \"newbalanceOrig\", \"oldbalanceDest\", \"newbalanceDest\"]]\n",
    "Y = transactions[\"isFraud\"]\n",
    "X_train, X_test, y_train, y_test = train_test_split(X, Y, test_size=0.2)\n",
    "\n",
    "print(\"y_train Fraud: {:.2f}%\".format(y_train.value_counts()[0]/len(y_train)*100))\n",
    "print(\"y_train Non-fraud: {:.2f}%\".format(y_train.value_counts()[1]/len(y_train)*100))\n",
    "print(\"y_test Fraud: {:.2f}%\".format(y_test.value_counts()[0]/len(y_test)*100))\n",
    "print(\"y_test Non-fraud: {:.2f}%\".format(y_test.value_counts()[1]/len(y_test)*100))"
   ]
  },
  {
   "cell_type": "code",
   "execution_count": null,
   "metadata": {},
   "outputs": [
    {
     "name": "stdout",
     "output_type": "stream",
     "text": [
      "Distribution of y_train set BEFORE balancing: {} Counter({0: 4567277, 1: 5581})\n",
      "Distribution of y_train set AFTER balancing: {} Counter({0: 2790500, 1: 5581})\n"
     ]
    }
   ],
   "source": [
    "kf = KFold(n_splits=10, shuffle=True)\n",
    "\n",
    "results_list = {\n",
    "    \"Fold\": [],\n",
    "    \"Accuracy\": [],\n",
    "    \"F1-Score\": [],\n",
    "    \"MCC\": [],\n",
    "    \"TP\": [],\n",
    "    \"FP\": [],\n",
    "    \"FN\": [],\n",
    "    \"TN\": [],\n",
    "}\n",
    "\n",
    "fold = 0\n",
    "for train_index, test_index in kf.split(X_train):\n",
    "    X_train_split, X_test_split = X_train.iloc[train_index], X_train.iloc[test_index]\n",
    "    y_train_split, y_test_split = y_train.iloc[train_index], y_train.iloc[test_index]\n",
    "    \n",
    "    # Encode types\n",
    "    type_encoder = LabelEncoder()\n",
    "    type_names = X_train_split[\"type\"].unique()\n",
    "    type_encoder.fit(type_names)\n",
    "    type_encoder.classes_ = np.append(type_encoder.classes_, \"<unknown>\")\n",
    "    X_train_split[\"type\"] = type_encoder.transform(X_train_split[\"type\"])\n",
    "    \n",
    "    # Normalize\n",
    "    scaler = StandardScaler()\n",
    "    X_train_split = scaler.fit_transform(X_train_split)\n",
    "    \n",
    "    print(\"Distribution of y_train set BEFORE balancing: {}\", Counter(y_train_split))\n",
    "    \n",
    "    under = RandomUnderSampler(sampling_strategy=0.002)\n",
    "    X_train_split, y_train_split = under.fit_resample(X_train_split, y_train_split)\n",
    "    \n",
    "    print(\"Distribution of y_train set AFTER balancing: {}\", Counter(y_train_split))\n",
    "    \n",
    "    # model = LogisticRegression()\n",
    "    model = MLPClassifier(hidden_layer_sizes=(256,256,256,256,128,128,1), max_iter=50, alpha=1e-5, solver='adam')\n",
    "    model = model.fit(X_train_split, y_train_split)\n",
    "    \n",
    "    # Encode type\n",
    "    X_test_split.loc[~X_test_split.type.isin(type_encoder.classes_), 'type'] = \"<unknown>\"\n",
    "    X_test_split[\"type\"] = type_encoder.transform(X_test_split[\"type\"])\n",
    "    \n",
    "    X_test_split = scaler.transform(X_test_split)\n",
    "    predictions = model.predict(X_test_split)\n",
    "    \n",
    "    f1score = f1_score(y_test_split, predictions).round(4)\n",
    "    accuracy = accuracy_score(y_test_split, predictions).round(4)\n",
    "    mcc  = matthews_corrcoef(y_test_split,predictions).round(4)\n",
    "    tn, fp, fn, tp = confusion_matrix(y_test_split, predictions).ravel()\n",
    "    \n",
    "    results_list[\"Fold\"].append(fold)\n",
    "    \n",
    "    results_list[\"Accuracy\"].append(accuracy)\n",
    "    results_list[\"F1-Score\"].append(f1score)\n",
    "    results_list[\"MCC\"].append(mcc)\n",
    "    results_list[\"TP\"].append(tp)\n",
    "    results_list[\"FP\"].append(fp)\n",
    "    results_list[\"FN\"].append(fn)\n",
    "    results_list[\"TN\"].append(tn)\n",
    "    \n",
    "    fold += 1\n",
    "\n",
    "results_df = pd.DataFrame(results_list)\n",
    "results_df"
   ]
  },
  {
   "cell_type": "code",
   "execution_count": null,
   "metadata": {},
   "outputs": [],
   "source": [
    "res = pd.melt(results_df, var_name='metric', value_vars=['Accuracy', 'F1-Score'])\n",
    "g = sns.boxplot(x=\"metric\", y=\"value\", data=res, palette=\"Set3\")\n",
    "plt.title('Comparison of Model by Classification Metric')\n",
    "plt.show()"
   ]
  },
  {
   "cell_type": "markdown",
   "metadata": {},
   "source": [
    "### Evaluate"
   ]
  },
  {
   "cell_type": "code",
   "execution_count": null,
   "metadata": {},
   "outputs": [],
   "source": [
    "# Encode test types\n",
    "X_test.loc[~X_test.type.isin(type_encoder.classes_), 'type'] = \"<unknown>\"\n",
    "X_test[\"type\"] = type_encoder.transform(X_test[\"type\"])"
   ]
  },
  {
   "cell_type": "code",
   "execution_count": null,
   "metadata": {},
   "outputs": [],
   "source": [
    "X_test = scaler.transform(X_test)"
   ]
  },
  {
   "cell_type": "code",
   "execution_count": null,
   "metadata": {},
   "outputs": [],
   "source": [
    "predictions = model.predict(X_test)\n",
    "\n",
    "f1score = f1_score(y_test, predictions).round(4)\n",
    "accuracy = accuracy_score(y_test, predictions).round(4)\n",
    "mcc = matthews_corrcoef(y_test,predictions).round(4)\n",
    "cm = confusion_matrix(y_test,predictions)\n",
    "\n",
    "print(\"F1Score: {}\".format(f1score))\n",
    "print(\"Accuracy: {}\".format(accuracy))\n",
    "\n",
    "cmtx = pd.DataFrame(cm, index=['True (Y)', 'True (N)'], columns=['Prediction (Y)', 'Prediction: (N)'])\n",
    "cmtx"
   ]
  },
  {
   "cell_type": "markdown",
   "metadata": {},
   "source": [
    "### Store Artifacts"
   ]
  },
  {
   "cell_type": "code",
   "execution_count": null,
   "metadata": {},
   "outputs": [],
   "source": [
    "def dump_artifact(artifact, artifact_path):\n",
    "    with open(artifact_path, 'wb') as handle:\n",
    "        pickle.dump(artifact, handle, protocol=pickle.HIGHEST_PROTOCOL)\n",
    "\n",
    "artifacts = {\n",
    "    \"type_encoder\": type_encoder,\n",
    "    \"model\": model,\n",
    "    \"scaler\": scaler\n",
    "}\n",
    "dump_artifact(artifacts, \"../MLP_saved_models/balanced_MLP.pkl\")"
   ]
  }
 ],
 "metadata": {
  "kernelspec": {
   "display_name": "Python 3 (ipykernel)",
   "language": "python",
   "name": "python3"
  },
  "language_info": {
   "codemirror_mode": {
    "name": "ipython",
    "version": 3
   },
   "file_extension": ".py",
   "mimetype": "text/x-python",
   "name": "python",
   "nbconvert_exporter": "python",
   "pygments_lexer": "ipython3",
   "version": "3.8.5"
  }
 },
 "nbformat": 4,
 "nbformat_minor": 4
}
